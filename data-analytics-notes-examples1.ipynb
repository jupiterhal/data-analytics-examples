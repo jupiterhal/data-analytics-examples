{
 "cells": [
  {
   "cell_type": "code",
   "execution_count": 2,
   "id": "7523b8cb-51aa-4bf4-9b94-d8e91c91989f",
   "metadata": {},
   "outputs": [],
   "source": [
    "my_list = [1,2,3]"
   ]
  },
  {
   "cell_type": "code",
   "execution_count": 4,
   "id": "20cb32b1-86f7-4b7f-8cd1-309dadab1677",
   "metadata": {},
   "outputs": [],
   "source": [
    "import numpy as np"
   ]
  },
  {
   "cell_type": "code",
   "execution_count": 12,
   "id": "de2c8c9a-f672-43d6-9fd5-9be978648c36",
   "metadata": {},
   "outputs": [],
   "source": [
    "arr = np.array(my_list)"
   ]
  },
  {
   "cell_type": "code",
   "execution_count": 15,
   "id": "0cf8cd24-84b8-49cb-be08-ddabf3e32d0f",
   "metadata": {},
   "outputs": [
    {
     "data": {
      "text/plain": [
       "array([1, 2, 3])"
      ]
     },
     "execution_count": 15,
     "metadata": {},
     "output_type": "execute_result"
    }
   ],
   "source": [
    "arr"
   ]
  },
  {
   "cell_type": "code",
   "execution_count": 17,
   "id": "9d80a266-7eeb-4eb7-9ae1-88f6f73010c6",
   "metadata": {},
   "outputs": [],
   "source": [
    "my_mat = [[1,2,3],[4,5,6],[7,8,9]]"
   ]
  },
  {
   "cell_type": "code",
   "execution_count": 23,
   "id": "49792a65-ef1b-4e9b-b7ef-3fa52c9ab839",
   "metadata": {},
   "outputs": [
    {
     "data": {
      "text/plain": [
       "[[1, 2, 3], [4, 5, 6], [7, 8, 9]]"
      ]
     },
     "execution_count": 23,
     "metadata": {},
     "output_type": "execute_result"
    }
   ],
   "source": [
    "my_mat"
   ]
  },
  {
   "cell_type": "code",
   "execution_count": 11,
   "id": "74ac0653-974f-4beb-9251-4c50c3ad85ec",
   "metadata": {},
   "outputs": [
    {
     "name": "stdout",
     "output_type": "stream",
     "text": [
      "[[1 2 3]\n",
      " [4 5 6]\n",
      " [7 8 9]]\n"
     ]
    }
   ],
   "source": [
    "import numpy as np\n",
    "\n",
    "my_mat = [[1,2,3],[4,5,6],[7,8,9]] #this is a simple list of list\n",
    "values = np.array(my_mat) #the list is turned into an array and stored in values\n",
    "print(values)\n"
   ]
  },
  {
   "cell_type": "code",
   "execution_count": 12,
   "id": "62b2ad70-04fc-457c-a867-70dfb7c232dd",
   "metadata": {},
   "outputs": [
    {
     "data": {
      "text/plain": [
       "array([ 0,  2,  4,  6,  8, 10])"
      ]
     },
     "execution_count": 12,
     "metadata": {},
     "output_type": "execute_result"
    }
   ],
   "source": [
    "import numpy as np\n",
    "\n",
    "#the first input is 'start', second is 'stop', and third is 'step'\n",
    "np.arange(0,11,2) # arange function is useful for generating arrays using numpy\n"
   ]
  },
  {
   "cell_type": "code",
   "execution_count": 16,
   "id": "7fa309f9-bc4a-4fb1-988a-1ebaabbdf0db",
   "metadata": {},
   "outputs": [
    {
     "data": {
      "text/plain": [
       "array([0., 0., 0.])"
      ]
     },
     "execution_count": 16,
     "metadata": {},
     "output_type": "execute_result"
    }
   ],
   "source": [
    "import numpy as np\n",
    "\n",
    "np.zeros(3) #arrays for only passing 'zeros', pass a single digit for one vector\n"
   ]
  },
  {
   "cell_type": "code",
   "execution_count": 20,
   "id": "c6891162-6e98-490f-9177-a4ba6e18c28c",
   "metadata": {},
   "outputs": [
    {
     "data": {
      "text/plain": [
       "array([[0., 0., 0.],\n",
       "       [0., 0., 0.]])"
      ]
     },
     "execution_count": 20,
     "metadata": {},
     "output_type": "execute_result"
    }
   ],
   "source": [
    "import numpy as np\n",
    "\n",
    "np.zeros((2,3)) #here you pass tuples you want. tuples are immutable.\n"
   ]
  },
  {
   "cell_type": "code",
   "execution_count": 22,
   "id": "21cb41e6-2e64-4cbd-a80c-7867ac233107",
   "metadata": {},
   "outputs": [],
   "source": [
    "#remember in python programming, the first input is 'ROWS', and the second are\n",
    "#'COLUMNS'"
   ]
  },
  {
   "cell_type": "code",
   "execution_count": 24,
   "id": "7b61b177-edd0-42de-b21a-57812de04279",
   "metadata": {},
   "outputs": [
    {
     "data": {
      "text/plain": [
       "array([1., 1., 1., 1.])"
      ]
     },
     "execution_count": 24,
     "metadata": {},
     "output_type": "execute_result"
    }
   ],
   "source": [
    "import numpy as np\n",
    "\n",
    "np.ones(4) #arrays for only passing 'ones'\n"
   ]
  },
  {
   "cell_type": "code",
   "execution_count": 26,
   "id": "951a43b9-ba78-40f8-992b-3532a467bc72",
   "metadata": {},
   "outputs": [
    {
     "data": {
      "text/plain": [
       "array([[1., 1., 1., 1.],\n",
       "       [1., 1., 1., 1.],\n",
       "       [1., 1., 1., 1.]])"
      ]
     },
     "execution_count": 26,
     "metadata": {},
     "output_type": "execute_result"
    }
   ],
   "source": [
    "import numpy as np\n",
    "\n",
    "np.ones((3,4)) #a two dimensional array of 'ones'"
   ]
  },
  {
   "cell_type": "code",
   "execution_count": 34,
   "id": "aea1c81b-8c46-444f-83ba-30aa55b18460",
   "metadata": {},
   "outputs": [
    {
     "data": {
      "text/plain": [
       "array([0.        , 0.55555556, 1.11111111, 1.66666667, 2.22222222,\n",
       "       2.77777778, 3.33333333, 3.88888889, 4.44444444, 5.        ])"
      ]
     },
     "execution_count": 34,
     "metadata": {},
     "output_type": "execute_result"
    }
   ],
   "source": [
    "import numpy as np\n",
    "\n",
    "np.linspace(0,5,10) #used to create evenly spaced numbers from between \n",
    "#starting point and ending value.\n"
   ]
  },
  {
   "cell_type": "code",
   "execution_count": 38,
   "id": "054d0d30-1c73-440d-a50b-d05600656399",
   "metadata": {},
   "outputs": [
    {
     "data": {
      "text/plain": [
       "array([[1., 0., 0., 0.],\n",
       "       [0., 1., 0., 0.],\n",
       "       [0., 0., 1., 0.],\n",
       "       [0., 0., 0., 1.]])"
      ]
     },
     "execution_count": 38,
     "metadata": {},
     "output_type": "execute_result"
    }
   ],
   "source": [
    "import numpy as np\n",
    "\n",
    "np.eye(4) #this is an identity matrix,a two dimensional square matrix meaning\n",
    "#the number of rows is same as the number of columns. was used in linear algebra\n"
   ]
  },
  {
   "cell_type": "code",
   "execution_count": 40,
   "id": "e58e906f-d5ff-419f-a1a7-c2f1bf75e404",
   "metadata": {},
   "outputs": [
    {
     "data": {
      "text/plain": [
       "array([0.87216509, 0.63556552, 0.49653972, 0.30247121, 0.92759155])"
      ]
     },
     "execution_count": 40,
     "metadata": {},
     "output_type": "execute_result"
    }
   ],
   "source": [
    "import numpy as np\n",
    "\n",
    "np.random.rand(5) #randomly generates random samples from a uniform distribution,\n",
    "#in this case, if you for example pass the input '5', then it will generate '5'\n",
    "#random arrays from '0 - 1'. this is a one dimensional array\n"
   ]
  },
  {
   "cell_type": "code",
   "execution_count": 44,
   "id": "29c5697e-5583-45f8-9129-3438636ee313",
   "metadata": {},
   "outputs": [
    {
     "data": {
      "text/plain": [
       "array([[0.35065462, 0.02079658, 0.14018551, 0.44186167, 0.91836164],\n",
       "       [0.4133968 , 0.80394376, 0.22262444, 0.81487504, 0.07003442],\n",
       "       [0.29228849, 0.34646522, 0.74372024, 0.58221876, 0.93531426],\n",
       "       [0.96427011, 0.75953573, 0.99209873, 0.79043682, 0.83269337]])"
      ]
     },
     "execution_count": 44,
     "metadata": {},
     "output_type": "execute_result"
    }
   ],
   "source": [
    "import numpy as np\n",
    "\n",
    "np.random.rand(4,5) #in this example instead of putting in a tuple, we simply\n",
    "#just insert a starting value and an ending value for each dimension. Let's \n",
    "#say we want a ' 4 by 5'matrix. We insert ' 4' in the start and ' 5' in the \n",
    "#end, signafying that ' 4' is the number of ' rows' we want our matrix to have\n",
    "#, while ' 5' is the number of columns we desire. Since we are utilizing the \n",
    "#' random.rand()' function of numpy, the values presented in the matrix's \n",
    "#output are randomized from ' 0 - 1'\n"
   ]
  },
  {
   "cell_type": "code",
   "execution_count": 48,
   "id": "49ff928d-d1fa-45c3-b140-6f814aba92a6",
   "metadata": {},
   "outputs": [
    {
     "data": {
      "text/plain": [
       "array([ 0.86094261, -1.36663971, -0.02033868, -0.8415614 ])"
      ]
     },
     "execution_count": 48,
     "metadata": {},
     "output_type": "execute_result"
    }
   ],
   "source": [
    "import numpy as np\n",
    "\n",
    "np.random.randn(4) #using 'random.randn()' function of numpy, allows us to plot\n",
    "#a standard normal distribution which falls under non-uniform distribution. This\n",
    "#means that some values, numbers, or chances generated using this function\n",
    "#have a higher chance of showing up than the others, compared to a uniform\n",
    "#distribution where if you for example have a bag containing numbers 1-6 and \n",
    "#each group leader gets to randomly pick one, all papers have an equal chance \n",
    "#of being selected because there are also 6 group leaders."
   ]
  },
  {
   "cell_type": "code",
   "execution_count": 50,
   "id": "e3511701-1033-4606-b4f3-6e8f03761254",
   "metadata": {},
   "outputs": [
    {
     "data": {
      "text/plain": [
       "array([[-0.62726062,  0.69065821, -1.43300728, -0.60769955],\n",
       "       [-0.73320685,  0.34595129,  0.39803857,  0.81915096],\n",
       "       [ 0.07370279,  0.67219489,  0.16063992, -0.54909184],\n",
       "       [ 0.59029693, -1.23471973,  1.50778852,  0.56631726]])"
      ]
     },
     "execution_count": 50,
     "metadata": {},
     "output_type": "execute_result"
    }
   ],
   "source": [
    "import numpy as np\n",
    "\n",
    "np.random.randn(4,4) #similar to when random.rand() function was performed,\n",
    "#' random.randn()' can take a starting point and ending point value for each\n",
    "#dimension to generate a two-dimesnional matrix."
   ]
  },
  {
   "cell_type": "code",
   "execution_count": 58,
   "id": "a7b5687b-c58f-4a28-a624-7ce246b2eb1d",
   "metadata": {},
   "outputs": [
    {
     "data": {
      "text/plain": [
       "array([41, 76, 46, 69, 30, 82, 47, 28, 32, 52])"
      ]
     },
     "execution_count": 58,
     "metadata": {},
     "output_type": "execute_result"
    }
   ],
   "source": [
    "import numpy as np\n",
    "\n",
    "#the first input is 'lower bound', second is 'upper bound', inclusive for\n",
    "#the low end and eclusive for the high end. For example, if '1' \n",
    "#is placed in your lower bound, and '100' on your upper bound,\n",
    "#then numbers 1 and 100 also have a chance of being selected or are also \n",
    "#included.\n",
    "np.random.randint(1,100)\n",
    "\n",
    "#on the other hand a third argument would indicate that the programmer would\n",
    "#like to generate that specific amount of numbers from the lower and upper\n",
    "#bound range. In this case, '10' values will be displayed.\n",
    "np.random.randint(1,100,10)"
   ]
  },
  {
   "cell_type": "code",
   "execution_count": 72,
   "id": "7b4cf07d-67ae-4339-8106-afbbae5399d0",
   "metadata": {},
   "outputs": [
    {
     "data": {
      "text/plain": [
       "array([ 0,  1,  2,  3,  4,  5,  6,  7,  8,  9, 10, 11, 12, 13, 14, 15, 16,\n",
       "       17, 18, 19, 20, 21, 22, 23, 24])"
      ]
     },
     "execution_count": 72,
     "metadata": {},
     "output_type": "execute_result"
    }
   ],
   "source": [
    "import numpy as np\n",
    "\n",
    "arr = np.arange(25)\n",
    "arr"
   ]
  },
  {
   "cell_type": "code",
   "execution_count": 84,
   "id": "8b46edfb-957e-4ad5-ae11-aa2678c92349",
   "metadata": {},
   "outputs": [
    {
     "data": {
      "text/plain": [
       "array([ 6,  3,  4, 31,  2, 46,  3, 27, 28,  5])"
      ]
     },
     "execution_count": 84,
     "metadata": {},
     "output_type": "execute_result"
    }
   ],
   "source": [
    "ranarr = np.random.randint(0,50,10)\n",
    "ranarr"
   ]
  },
  {
   "cell_type": "code",
   "execution_count": 74,
   "id": "33156623-dd91-4f75-a939-f4848f07f6d0",
   "metadata": {},
   "outputs": [
    {
     "data": {
      "text/plain": [
       "array([[ 0,  1,  2,  3,  4],\n",
       "       [ 5,  6,  7,  8,  9],\n",
       "       [10, 11, 12, 13, 14],\n",
       "       [15, 16, 17, 18, 19],\n",
       "       [20, 21, 22, 23, 24]])"
      ]
     },
     "execution_count": 74,
     "metadata": {},
     "output_type": "execute_result"
    }
   ],
   "source": [
    "arr.reshape(5,5) #notice that by using the 'reshape()' function, the variable\n",
    "#' arr' which stores another function, 'np.arange(25)' has been turned into a\n",
    "#matrix of '5 by 5' as indicated in the first dimension, again known as 'row',\n",
    "#and the second dimension, again known as 'column'."
   ]
  },
  {
   "cell_type": "code",
   "execution_count": 76,
   "id": "4026e4df-70cd-4e94-a435-94416c3740ab",
   "metadata": {},
   "outputs": [],
   "source": [
    "#IMPORTANT NOTE\n",
    "\n",
    "#we have to note however, that the 'reshape()' function could work with the\n",
    "#inputted dimensions of a '5 by 5' matrix, because the 'arr' variable stores\n",
    "#a range of '25' numbers.\n",
    "\n",
    "#if for example we wanted 'arr.reshape()' to have dimensions of '5 by 10',\n",
    "#the program will have an error because the number of values would be too\n",
    "#small to fill the matrix up. you can only fill up with only the existing\n",
    "#number of elements you have. in the case where we called 'np.arange(25)', we\n",
    "#get numbers '0-24'."
   ]
  },
  {
   "cell_type": "code",
   "execution_count": 94,
   "id": "6b913d05-de6a-4acc-8f69-3cd0aa48e58d",
   "metadata": {},
   "outputs": [
    {
     "data": {
      "text/plain": [
       "49"
      ]
     },
     "execution_count": 94,
     "metadata": {},
     "output_type": "execute_result"
    }
   ],
   "source": [
    "import numpy as np\n",
    "\n",
    "ranarr = np.random.randint(0,50,10)\n",
    "\n",
    "ranarr.max() #this function finds the max or highest value from the range"
   ]
  },
  {
   "cell_type": "code",
   "execution_count": 92,
   "id": "5b92cdf9-a692-4f53-baa3-0245fa8d4aa2",
   "metadata": {},
   "outputs": [
    {
     "data": {
      "text/plain": [
       "6"
      ]
     },
     "execution_count": 92,
     "metadata": {},
     "output_type": "execute_result"
    }
   ],
   "source": [
    "import numpy as np\n",
    "\n",
    "ranarr = np.random.randint(0,50,10)\n",
    "\n",
    "ranarr.min() #this function finds the minimum or lowerst value from the range"
   ]
  },
  {
   "cell_type": "code",
   "execution_count": 98,
   "id": "021f1bd6-f0ae-444c-bb63-c35a85a1e8df",
   "metadata": {},
   "outputs": [
    {
     "data": {
      "text/plain": [
       "6"
      ]
     },
     "execution_count": 98,
     "metadata": {},
     "output_type": "execute_result"
    }
   ],
   "source": [
    "import numpy as np\n",
    "\n",
    "ranarr = np.random.randint(0,50,10)\n",
    "\n",
    "                           0   1   2   3   4   5   6   7   8   9\n",
    "ranarr #output example [( 35, 18, 26, 49, 34, 48, 3, 30, 6, 6)]\n",
    "\n",
    "#if ' ranarr.max()' displays the number '49' as the highest output then\n",
    "ranarr.argmax() #this function finds the index position of it. In this case,\n",
    "#'49' is indexed at number 3.\n",
    "\n",
    "ranarr.argmin() #works the same way, but finds the index number of the\n",
    "#lowest output. In this case, since '3' is the smallest value, it is \n",
    "#positioned in index number 6."
   ]
  },
  {
   "cell_type": "code",
   "execution_count": null,
   "id": "63ebc960-9147-4d78-bb1e-e4a4140445cc",
   "metadata": {},
   "outputs": [],
   "source": [
    "arr.dtype() #this function will return the data type seen in your array."
   ]
  },
  {
   "cell_type": "code",
   "execution_count": 7,
   "id": "f74e4de1-35ac-4a4b-9dfc-35a0e7c870a1",
   "metadata": {},
   "outputs": [],
   "source": [
    "#NEXT LESSONS---------------------------------------------------------------->"
   ]
  },
  {
   "cell_type": "code",
   "execution_count": 15,
   "id": "1e5d41e2-c12d-4ca1-a59d-e603157b2b2f",
   "metadata": {},
   "outputs": [
    {
     "data": {
      "text/plain": [
       "8"
      ]
     },
     "execution_count": 15,
     "metadata": {},
     "output_type": "execute_result"
    }
   ],
   "source": [
    "import numpy as np\n",
    "\n",
    "arr = np.arange(0,11)\n",
    "arr[8] #returning a desired number from an array is as simple as getting \n",
    "#the index in a list. simply put square brackets to indicate and then the\n",
    "#index number which represents the value you want to return.\n"
   ]
  },
  {
   "cell_type": "code",
   "execution_count": 23,
   "id": "4241a2d7-e892-4758-ae65-cb259c02b53b",
   "metadata": {},
   "outputs": [
    {
     "data": {
      "text/plain": [
       "array([1, 2, 3, 4])"
      ]
     },
     "execution_count": 23,
     "metadata": {},
     "output_type": "execute_result"
    }
   ],
   "source": [
    "import numpy as np\n",
    "\n",
    "arr = np.arange(0,11)\n",
    "arr[1:5] #the starting index is '1' and the stopping index is '5'. Slicing \n",
    "#a range of numbers to get more than a single output in an array is just \n",
    "#the same as in a list.\n"
   ]
  },
  {
   "cell_type": "code",
   "execution_count": 27,
   "id": "b0b5a42a-6301-45b5-8b3e-43933429a588",
   "metadata": {},
   "outputs": [
    {
     "data": {
      "text/plain": [
       "array([0, 1, 2, 3, 4, 5])"
      ]
     },
     "execution_count": 27,
     "metadata": {},
     "output_type": "execute_result"
    }
   ],
   "source": [
    "import numpy as np\n",
    "\n",
    "arr = np.arange(0,11)\n",
    "arr[:6] #it is also possible to leave the starting index blank. this would\n",
    "#signify that you want to output or display all the numbers BEFORE the ending\n",
    "#index.\n"
   ]
  },
  {
   "cell_type": "code",
   "execution_count": 31,
   "id": "91a7b089-2f8f-4bf3-a9e5-c9c87f11d482",
   "metadata": {},
   "outputs": [
    {
     "data": {
      "text/plain": [
       "array([ 5,  6,  7,  8,  9, 10])"
      ]
     },
     "execution_count": 31,
     "metadata": {},
     "output_type": "execute_result"
    }
   ],
   "source": [
    "import numpy as np\n",
    "\n",
    "arr = np.arange(0,11)\n",
    "arr[5:] #this is similar to the previous example. however, numbers AFTER the\n",
    "#indicated starting index, in this case ' 5' (still an index representation \n",
    "#not the actual '5' number) will be outputted.\n"
   ]
  },
  {
   "cell_type": "code",
   "execution_count": null,
   "id": "6c505b0c-9a0d-447d-9fd4-e09f5e50d742",
   "metadata": {},
   "outputs": [],
   "source": [
    "#POSSIBLE QUESTIONS IN CONFUSING TO INDEX REPRESENTATION\n",
    "------------------------------------------------------------\n",
    "I am confused. If we are referring to an index representation, why is that\n",
    "the array output displayed numbers ' 5-10' ?, instead of ' 4-10' since in this\n",
    "case, the real number ' 4' is represented by the index number ' 5'?\n",
    "\n",
    "    - This is because when you say for example, [5:], it means that you are\n",
    "    grabbing the numbers WAY BEYOND index ' 5' itself. Simply, you start to\n",
    "    display the numbers represented by the next index which is index ' 6'.\n",
    "    It's as if you are saying that you are excluding index representation ' 5'\n",
    "    and getting the numbers after it.\n"
   ]
  },
  {
   "cell_type": "code",
   "execution_count": 41,
   "id": "fd0183e3-8f27-4b51-bbd3-d08cade9bb66",
   "metadata": {},
   "outputs": [
    {
     "data": {
      "text/plain": [
       "array([100, 100, 100, 100, 100,   5,   6,   7,   8,   9,  10])"
      ]
     },
     "execution_count": 41,
     "metadata": {},
     "output_type": "execute_result"
    }
   ],
   "source": [
    "import numpy as np\n",
    "\n",
    "arr = np.arange(0,11)\n",
    "arr[0:5] = 100 #by equating it to ' 100', you set all real numbers represented\n",
    "#by starting index ' 0' all the way to real numbers before stopping index ' 5',\n",
    "#in this case you can imagine real numbers '0-4' to be represented by the\n",
    "#number 100.\n",
    "    \n",
    "arr\n"
   ]
  },
  {
   "cell_type": "code",
   "execution_count": 44,
   "id": "ef68d228-8ecd-451e-a3ee-cc4f3d3403e5",
   "metadata": {},
   "outputs": [
    {
     "data": {
      "text/plain": [
       "array([0, 1, 2, 3, 4, 5])"
      ]
     },
     "execution_count": 44,
     "metadata": {},
     "output_type": "execute_result"
    }
   ],
   "source": [
    "import numpy as np\n",
    "\n",
    "arr = np.arange(0,11)\n",
    "\n",
    "slice_of_arr = arr[0:6]\n",
    "\n",
    "slice_of_arr\n"
   ]
  },
  {
   "cell_type": "code",
   "execution_count": 10,
   "id": "a083ca2d-a699-442c-be63-c2c5a8d516c1",
   "metadata": {},
   "outputs": [
    {
     "data": {
      "text/plain": [
       "array([0, 1, 2, 3, 4, 5])"
      ]
     },
     "execution_count": 10,
     "metadata": {},
     "output_type": "execute_result"
    }
   ],
   "source": [
    "import numpy as np\n",
    "\n",
    "arr = np.arange(0,11)\n",
    "\n",
    "slice_of_arr = arr[0:6]\n",
    "\n",
    "slice_of_arr[:] #no input in row or column dimensions mean that you want to\n",
    "#broadcast the entire array, so everything will be displayed. 'Slice_of_arr' \n",
    "#stores 'arr[0:6]', so the display output would be elemnts from index number\n",
    "#representations '0-6' meaning the starting point would be '0' but the stopping\n",
    "#point '6' would not be included.\n"
   ]
  },
  {
   "cell_type": "code",
   "execution_count": 12,
   "id": "18241e31-3835-40ee-a5bd-af94ce2b8369",
   "metadata": {},
   "outputs": [
    {
     "data": {
      "text/plain": [
       "array([99, 99, 99, 99, 99, 99])"
      ]
     },
     "execution_count": 12,
     "metadata": {},
     "output_type": "execute_result"
    }
   ],
   "source": [
    "import numpy as np\n",
    "\n",
    "arr = np.arange(0,11)\n",
    "\n",
    "slice_of_arr = arr[0:6]\n",
    "\n",
    "slice_of_arr[:] = 99 #this would set 'all' values to 99.\n",
    "\n",
    "slice_of_arr\n"
   ]
  },
  {
   "cell_type": "code",
   "execution_count": 14,
   "id": "bc2c1341-d942-4fa1-adcc-effad4ebf47e",
   "metadata": {},
   "outputs": [
    {
     "data": {
      "text/plain": [
       "array([99, 99, 99, 99, 99, 99,  6,  7,  8,  9, 10])"
      ]
     },
     "execution_count": 14,
     "metadata": {},
     "output_type": "execute_result"
    }
   ],
   "source": [
    "import numpy as np\n",
    "\n",
    "arr = np.arange(0,11)\n",
    "\n",
    "slice_of_arr = arr[0:6]\n",
    "\n",
    "slice_of_arr[:] = 99 \n",
    "\n",
    "slice_of_arr #since 'all' values were set to 99, this would also change the\n",
    "#values in the initial variable 'arr' and not just in variable 'slice_of_arr'\n",
    "\n",
    "arr\n"
   ]
  },
  {
   "cell_type": "code",
   "execution_count": 16,
   "id": "59aa3261-b92c-430d-be23-862d081e3260",
   "metadata": {},
   "outputs": [],
   "source": [
    "arr_copy = arr.copy() #This is a variable containing the '.copy()' function.\n",
    "#what this does is that it can specifically indicate what you want to copy.\n",
    "#in this case, the 'arr_copy' variable stores a complete copy of what is\n",
    "#contained in initial variable 'arr'.\n",
    "\n",
    "#so for example, if arr outputs '([99, 99, 99, 99, 99, 99,  6,  7,  8,  9, 10])'\n",
    "#then 'arr_copy' variable would also output \n",
    "#'([99, 99, 99, 99, 99, 99,  6,  7,  8,  9, 10])'\n"
   ]
  },
  {
   "cell_type": "code",
   "execution_count": 22,
   "id": "ba17e229-5718-4914-9aa4-db6816a3e0d7",
   "metadata": {},
   "outputs": [],
   "source": [
    "#however if the variable is set this way, indexing the dimensions:\n",
    "arr_copy[:] = 100\n",
    "#then we can say that all variables now in 'arr_copy' has been changed to display\n",
    "#'([100, 100, 100, 100, 100, 100, 100, 100, 100, 100, 100])'\n"
   ]
  },
  {
   "cell_type": "code",
   "execution_count": 20,
   "id": "8c64fa03-378f-4f0a-805d-f1d841267d3c",
   "metadata": {},
   "outputs": [
    {
     "data": {
      "text/plain": [
       "array([99, 99, 99, 99, 99, 99,  6,  7,  8,  9, 10])"
      ]
     },
     "execution_count": 20,
     "metadata": {},
     "output_type": "execute_result"
    }
   ],
   "source": [
    "#this means that variable:\n",
    "arr\n",
    "#when printed out retains the output of\n",
    "#'([99, 99, 99, 99, 99, 99,  6,  7,  8,  9, 10])', as variable 'arr_copy' became\n",
    "#independent of it.\n"
   ]
  },
  {
   "cell_type": "code",
   "execution_count": 24,
   "id": "e650f329-f2d8-473e-a03f-20a2a29efcc7",
   "metadata": {},
   "outputs": [],
   "source": [
    "#NEXT LESSONS---------------------------------------------------------------->"
   ]
  },
  {
   "cell_type": "code",
   "execution_count": 26,
   "id": "1cfc4615-1dc1-4059-a6dc-230b29900589",
   "metadata": {},
   "outputs": [
    {
     "data": {
      "text/plain": [
       "array([[ 5, 10, 15],\n",
       "       [20, 25, 30],\n",
       "       [35, 40, 45]])"
      ]
     },
     "execution_count": 26,
     "metadata": {},
     "output_type": "execute_result"
    }
   ],
   "source": [
    "import numpy as np\n",
    "\n",
    "arr_2d = np.array([[ 5, 10, 15],[ 20, 25, 30], [35, 40, 45]])\n",
    "\n",
    "arr_2d #this outputs a two-dimensional matrix as it consists of 3 rows\n",
    "# and 3 columns, more than a single line of previous array outputs."
   ]
  },
  {
   "cell_type": "code",
   "execution_count": 32,
   "id": "69a6774d-a42c-494f-8110-e3e30ded7bd4",
   "metadata": {},
   "outputs": [
    {
     "data": {
      "text/plain": [
       "25"
      ]
     },
     "execution_count": 32,
     "metadata": {},
     "output_type": "execute_result"
    }
   ],
   "source": [
    "import numpy as np\n",
    "\n",
    "arr_2d = np.array([[ 5, 10, 15],[ 20, 25, 30], [35, 40, 45]])\n",
    "\n",
    "arr_2d[1][1] #if you for example want to return the digit '5', you refer to it\n",
    "#like this. the first '[1]' represents the second row. the second '[1]' \n",
    "#represents the second column. altogether the combination gets the item in the\n",
    "#assigned position of it, which is '25'."
   ]
  },
  {
   "cell_type": "code",
   "execution_count": 34,
   "id": "00ffc3f9-8a9d-4cbf-8494-21647170e0f7",
   "metadata": {},
   "outputs": [],
   "source": [
    "#YOU CAN DO DOUBLE BRACKETS OR A SINGLE BRACKET LIKE THE ONE BELOW------------->"
   ]
  },
  {
   "cell_type": "code",
   "execution_count": 36,
   "id": "8a075139-22e9-47b7-b682-de02563d9eb0",
   "metadata": {},
   "outputs": [
    {
     "data": {
      "text/plain": [
       "25"
      ]
     },
     "execution_count": 36,
     "metadata": {},
     "output_type": "execute_result"
    }
   ],
   "source": [
    "import numpy as np\n",
    "\n",
    "arr_2d = np.array([[ 5, 10, 15],[ 20, 25, 30], [35, 40, 45]])\n",
    "\n",
    "arr_2d[1,1] #it will have the same result as the previous."
   ]
  },
  {
   "cell_type": "code",
   "execution_count": 56,
   "id": "ba380c19-d369-4c1a-a283-c2d5afb3b12a",
   "metadata": {},
   "outputs": [
    {
     "data": {
      "text/plain": [
       "array([[10, 15],\n",
       "       [25, 30]])"
      ]
     },
     "execution_count": 56,
     "metadata": {},
     "output_type": "execute_result"
    }
   ],
   "source": [
    "import numpy as np\n",
    "\n",
    "arr_2d = np.array([[ 5, 10, 15],[ 20, 25, 30], [35, 40, 45]])\n",
    "\n",
    "arr_2d[:2,1:] #in this example a slice is used to grab values '10','15' and\n",
    "#'25' and '30'.\n",
    "\n",
    "#in an output that displays the following:\n",
    "\n",
    "#        0    1    2\n",
    "#array([[ 5, 10, 15],  0\n",
    "#       [20, 25, 30],  1\n",
    "#       [35, 40, 45]]) 2\n",
    "\n",
    "#how this works is that '[:2', means that we will capture all real numbers\n",
    "#before index '2'. in this case, list:\n",
    "\n",
    "#[35, 40, 45] <--- is left out\n",
    "#[ 5, 10, 15] and [20, 25, 30] <--- is referred to\n",
    "\n",
    "#then, the next ',1:]' means that we will capture all real numbers\n",
    "#after index '1'. in this case, placements:\n",
    "\n",
    "#[10,15] amd [25,30] <--- is referred to\n"
   ]
  },
  {
   "cell_type": "code",
   "execution_count": 68,
   "id": "5e0feb88-80b7-48e7-a922-8bc223807738",
   "metadata": {},
   "outputs": [
    {
     "data": {
      "text/plain": [
       "array([0, 1, 2, 3, 4])"
      ]
     },
     "execution_count": 68,
     "metadata": {},
     "output_type": "execute_result"
    }
   ],
   "source": [
    "import numpy as np\n",
    "\n",
    "arr[0:11]\n",
    "\n",
    "boolean_arr = arr < 5\n",
    "\n",
    "boolean_arr\n",
    "\n",
    "arr[boolean_arr]"
   ]
  },
  {
   "cell_type": "code",
   "execution_count": 70,
   "id": "18707715-e9b8-4de0-9f75-f15ecb7a04cb",
   "metadata": {},
   "outputs": [],
   "source": [
    "#YOU CAN DO ONE LINE OF CODE LIKE THE ONE BELOW------------->"
   ]
  },
  {
   "cell_type": "code",
   "execution_count": 72,
   "id": "20720f56-f56e-4319-97cb-1abe2111cd14",
   "metadata": {},
   "outputs": [
    {
     "data": {
      "text/plain": [
       "array([0, 1, 2, 3, 4])"
      ]
     },
     "execution_count": 72,
     "metadata": {},
     "output_type": "execute_result"
    }
   ],
   "source": [
    "import numpy as np\n",
    "\n",
    "arr[0:11]\n",
    "\n",
    "arr[arr<5]"
   ]
  },
  {
   "cell_type": "code",
   "execution_count": 2,
   "id": "5b896e2d-727f-474d-a8c3-0fbbe10de558",
   "metadata": {},
   "outputs": [],
   "source": [
    "#NEXT LESSONS---------------------------------------------------------------->"
   ]
  },
  {
   "cell_type": "code",
   "execution_count": null,
   "id": "b919e59b-ba5c-4fad-b902-ff287a2ce21e",
   "metadata": {},
   "outputs": [],
   "source": []
  },
  {
   "cell_type": "code",
   "execution_count": null,
   "id": "250bfe4d-8fa6-4c64-947f-6398a164962b",
   "metadata": {},
   "outputs": [],
   "source": [
    "np.sqrt(arr)"
   ]
  }
 ],
 "metadata": {
  "kernelspec": {
   "display_name": "Python [conda env:base] *",
   "language": "python",
   "name": "conda-base-py"
  },
  "language_info": {
   "codemirror_mode": {
    "name": "ipython",
    "version": 3
   },
   "file_extension": ".py",
   "mimetype": "text/x-python",
   "name": "python",
   "nbconvert_exporter": "python",
   "pygments_lexer": "ipython3",
   "version": "3.12.7"
  }
 },
 "nbformat": 4,
 "nbformat_minor": 5
}
